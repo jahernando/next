{
 "cells": [
  {
   "cell_type": "markdown",
   "metadata": {},
   "source": [
    "# Energy resolution after  delta-z effect correction\n",
    "\n",
    "## DEMO Run7, esmeralda: 8757, 8758, 8759 @gpu1next\n",
    "\n",
    "\n",
    "### Nov 2020, JAH"
   ]
  },
  {
   "cell_type": "code",
   "execution_count": 2,
   "metadata": {},
   "outputs": [],
   "source": [
    "%matplotlib inline\n",
    "%reload_ext autoreload\n",
    "%autoreload 2"
   ]
  },
  {
   "cell_type": "code",
   "execution_count": 3,
   "metadata": {},
   "outputs": [],
   "source": [
    "import numpy             as np\n",
    "import pandas            as pd\n",
    "import tables            as tb\n",
    "import matplotlib.pyplot as plt\n",
    "\n",
    "to_df = pd.DataFrame.from_records"
   ]
  },
  {
   "cell_type": "code",
   "execution_count": 4,
   "metadata": {},
   "outputs": [],
   "source": [
    "import hipy.utils        as ut\n",
    "import hipy.pltext       as pltext\n",
    "\n",
    "import next.core.io        as nio\n",
    "import next.core.selection as nsel\n",
    "\n",
    "import next.eres.eres      as eres"
   ]
  },
  {
   "cell_type": "code",
   "execution_count": 5,
   "metadata": {},
   "outputs": [
    {
     "name": "stdout",
     "output_type": "stream",
     "text": [
      " Last revision  Wed Apr 14 11:51:35 2021\n"
     ]
    }
   ],
   "source": [
    "pltext.style()\n",
    "\n",
    "import warnings\n",
    "warnings.filterwarnings('ignore')\n",
    "\n",
    "import time\n",
    "print(' Last revision ', time.asctime())"
   ]
  },
  {
   "cell_type": "markdown",
   "metadata": {},
   "source": [
    "### load data"
   ]
  },
  {
   "cell_type": "code",
   "execution_count": 6,
   "metadata": {},
   "outputs": [
    {
     "name": "stdout",
     "output_type": "stream",
     "text": [
      "nS2 (1.0, 1.0)\n",
      "evt_out_of_map (False, False)\n",
      "numb_of_tracks (1.0, 1.0)\n",
      "z_min (15.0, 300.0)\n",
      "z_max (15.0, 300.0)\n",
      "r_max (0.0, 55.0)\n",
      "energy (0.0, 3.0)\n",
      "energy.cs (0.65, 0.75)\n",
      "energy.ds (1.6, 1.85)\n",
      "energy.ph (2.0, 3.0)\n"
     ]
    }
   ],
   "source": [
    "ranges = {'nS2'            : (1., 1.),\n",
    "          'evt_out_of_map' : (False, False),\n",
    "          'numb_of_tracks' : (1., 1.),\n",
    "          'z_min'          : (15., 300.),\n",
    "          'z_max'          : (15., 300.),\n",
    "          'r_max'          : (0.,  55.),\n",
    "          'energy'         : (0., 3.),\n",
    "          'energy.cs'      : (0.65, 0.75),\n",
    "          'energy.ds'      : (1.60, 1.85),\n",
    "          'energy.ph'      : (2.00, 3.00),\n",
    "         }\n",
    "for key in ranges.keys():\n",
    "    print(key, ranges[key])"
   ]
  },
  {
   "cell_type": "code",
   "execution_count": 7,
   "metadata": {},
   "outputs": [],
   "source": [
    "def get_filename(run_number):\n",
    "    datadir    = f\"/home/jrenner/analysis/DEMO/run7/\"\n",
    "    run_number = str(run_number)\n",
    "    filename   = datadir + f'/cdst_combined_{run_number}' + '.h5'\n",
    "    return filename\n",
    "\n",
    "def df_filter(run_number):\n",
    "    run_number = str(run_number)\n",
    "    fname      = get_filename(run_number)\n",
    "    print('open file ', fname)\n",
    "    dft, f     = nio.get_dfesme(fname)\n",
    "    selections = nsel.Selections(dft, ranges)\n",
    "    selnames   = ('nS2', 'numb_of_tracks', 'z_min', 'z_max', 'r_max')\n",
    "    sel_fid    = selections.logical_and(selnames, 'fidutial');\n",
    "    dft_fid    = dft[sel_fid]\n",
    "    eff, ueff  = ut.efficiency(sel_fid)\n",
    "    print('efficiency : ', sel_fid.info, 'efficiency {:6.5f}'.format(eff))\n",
    "    ofilename  = f'dfesme_fidutial_{run_number}.h5'\n",
    "    dft_fid.to_hdf(ofilename, 'esme')\n",
    "    f.close()\n",
    "    return\n",
    "    \n",
    "    \n",
    "    "
   ]
  },
  {
   "cell_type": "code",
   "execution_count": 8,
   "metadata": {},
   "outputs": [],
   "source": [
    "# df_filter(8757)"
   ]
  },
  {
   "cell_type": "code",
   "execution_count": 9,
   "metadata": {
    "scrolled": false
   },
   "outputs": [
    {
     "name": "stdout",
     "output_type": "stream",
     "text": [
      "open file  /home/jrenner/analysis/DEMO/run7//cdst_combined_8757.h5\n",
      "efficiency :  nS2 [1.0, 1.0] & numb_of_tracks [1.0, 1.0] & z_min [15.0, 300.0) & z_max [15.0, 300.0) & r_max [0.0, 55.0) efficiency 0.03175\n",
      "open file  /home/jrenner/analysis/DEMO/run7//cdst_combined_8758.h5\n",
      "efficiency :  nS2 [1.0, 1.0] & numb_of_tracks [1.0, 1.0] & z_min [15.0, 300.0) & z_max [15.0, 300.0) & r_max [0.0, 55.0) efficiency 0.03195\n",
      "open file  /home/jrenner/analysis/DEMO/run7//cdst_combined_8759.h5\n",
      "efficiency :  nS2 [1.0, 1.0] & numb_of_tracks [1.0, 1.0] & z_min [15.0, 300.0) & z_max [15.0, 300.0) & r_max [0.0, 55.0) efficiency 0.03174\n",
      "open file  /home/jrenner/analysis/DEMO/run7//cdst_combined_8760.h5\n",
      "efficiency :  nS2 [1.0, 1.0] & numb_of_tracks [1.0, 1.0] & z_min [15.0, 300.0) & z_max [15.0, 300.0) & r_max [0.0, 55.0) efficiency 0.03236\n",
      "open file  /home/jrenner/analysis/DEMO/run7//cdst_combined_8762.h5\n",
      "efficiency :  nS2 [1.0, 1.0] & numb_of_tracks [1.0, 1.0] & z_min [15.0, 300.0) & z_max [15.0, 300.0) & r_max [0.0, 55.0) efficiency 0.03191\n",
      "open file  /home/jrenner/analysis/DEMO/run7//cdst_combined_8764.h5\n",
      "efficiency :  nS2 [1.0, 1.0] & numb_of_tracks [1.0, 1.0] & z_min [15.0, 300.0) & z_max [15.0, 300.0) & r_max [0.0, 55.0) efficiency 0.03207\n",
      "open file  /home/jrenner/analysis/DEMO/run7//cdst_combined_8765.h5\n",
      "efficiency :  nS2 [1.0, 1.0] & numb_of_tracks [1.0, 1.0] & z_min [15.0, 300.0) & z_max [15.0, 300.0) & r_max [0.0, 55.0) efficiency 0.03220\n",
      "open file  /home/jrenner/analysis/DEMO/run7//cdst_combined_8913.h5\n",
      "efficiency :  nS2 [1.0, 1.0] & numb_of_tracks [1.0, 1.0] & z_min [15.0, 300.0) & z_max [15.0, 300.0) & r_max [0.0, 55.0) efficiency 0.03183\n",
      "open file  /home/jrenner/analysis/DEMO/run7//cdst_combined_8915.h5\n",
      "efficiency :  nS2 [1.0, 1.0] & numb_of_tracks [1.0, 1.0] & z_min [15.0, 300.0) & z_max [15.0, 300.0) & r_max [0.0, 55.0) efficiency 0.03192\n",
      "open file  /home/jrenner/analysis/DEMO/run7//cdst_combined_8916.h5\n",
      "efficiency :  nS2 [1.0, 1.0] & numb_of_tracks [1.0, 1.0] & z_min [15.0, 300.0) & z_max [15.0, 300.0) & r_max [0.0, 55.0) efficiency 0.03208\n",
      "open file  /home/jrenner/analysis/DEMO/run7//cdst_combined_8920.h5\n",
      "efficiency :  nS2 [1.0, 1.0] & numb_of_tracks [1.0, 1.0] & z_min [15.0, 300.0) & z_max [15.0, 300.0) & r_max [0.0, 55.0) efficiency 0.03242\n",
      "open file  /home/jrenner/analysis/DEMO/run7//cdst_combined_8921.h5\n",
      "efficiency :  nS2 [1.0, 1.0] & numb_of_tracks [1.0, 1.0] & z_min [15.0, 300.0) & z_max [15.0, 300.0) & r_max [0.0, 55.0) efficiency 0.03266\n",
      "open file  /home/jrenner/analysis/DEMO/run7//cdst_combined_8922.h5\n",
      "efficiency :  nS2 [1.0, 1.0] & numb_of_tracks [1.0, 1.0] & z_min [15.0, 300.0) & z_max [15.0, 300.0) & r_max [0.0, 55.0) efficiency 0.03221\n",
      "open file  /home/jrenner/analysis/DEMO/run7//cdst_combined_8923.h5\n",
      "efficiency :  nS2 [1.0, 1.0] & numb_of_tracks [1.0, 1.0] & z_min [15.0, 300.0) & z_max [15.0, 300.0) & r_max [0.0, 55.0) efficiency 0.03238\n"
     ]
    }
   ],
   "source": [
    "runs      = [8757, 8758, 8759, 8760, 8762, 8764, 8765, 8913, 8915, 8916, 8920, 8921, 8922, 8923]\n",
    "[df_filter(run) for run in runs]"
   ]
  },
  {
   "cell_type": "code",
   "execution_count": null,
   "metadata": {},
   "outputs": [],
   "source": [
    "cc = [df_filter(run) for run in runs]"
   ]
  },
  {
   "cell_type": "code",
   "execution_count": 12,
   "metadata": {},
   "outputs": [],
   "source": [
    "def get_dfesme(run_number):\n",
    "    run_number = str(run_number)\n",
    "    dirpath    = '/home/hernando/data/demo/run7/'\n",
    "    filename   = dirpath + f'dfesme_fidutial_{run_number}.h5'\n",
    "    print(filename)\n",
    "    df         = pd.read_hdf(filename, 'esme')\n",
    "    return df"
   ]
  },
  {
   "cell_type": "code",
   "execution_count": 16,
   "metadata": {},
   "outputs": [
    {
     "name": "stdout",
     "output_type": "stream",
     "text": [
      "/home/hernando/data/demo/run7/dfesme_fidutial_8757.h5\n",
      "/home/hernando/data/demo/run7/dfesme_fidutial_8758.h5\n",
      "/home/hernando/data/demo/run7/dfesme_fidutial_8759.h5\n",
      "/home/hernando/data/demo/run7/dfesme_fidutial_8760.h5\n",
      "/home/hernando/data/demo/run7/dfesme_fidutial_8762.h5\n",
      "/home/hernando/data/demo/run7/dfesme_fidutial_8764.h5\n",
      "/home/hernando/data/demo/run7/dfesme_fidutial_8765.h5\n",
      "/home/hernando/data/demo/run7/dfesme_fidutial_8913.h5\n",
      "/home/hernando/data/demo/run7/dfesme_fidutial_8915.h5\n",
      "/home/hernando/data/demo/run7/dfesme_fidutial_8916.h5\n",
      "/home/hernando/data/demo/run7/dfesme_fidutial_8920.h5\n",
      "/home/hernando/data/demo/run7/dfesme_fidutial_8921.h5\n",
      "/home/hernando/data/demo/run7/dfesme_fidutial_8922.h5\n",
      "/home/hernando/data/demo/run7/dfesme_fidutial_8923.h5\n",
      "total number of selected events  913222\n"
     ]
    }
   ],
   "source": [
    "runs = [8757, 8758, 8759, 8760, 8762, 8764, 8765, 8913, 8915, 8916, 8920, 8921, 8922, 8923]\n",
    "dfs  = [get_dfesme(run) for run in runs]\n",
    "df   = nio.df_concat(dfs, runs)\n",
    "print('total number of selected events ', len(df))\n",
    "ofilename  = f'/home/hernando/data/demo/run7/dfesme_fidutial_combined.h5'\n",
    "df.to_hdf(ofilename, 'esme')"
   ]
  },
  {
   "cell_type": "code",
   "execution_count": null,
   "metadata": {},
   "outputs": [],
   "source": []
  }
 ],
 "metadata": {
  "kernelspec": {
   "display_name": "Python 3 (ipykernel)",
   "language": "python",
   "name": "python3"
  },
  "language_info": {
   "codemirror_mode": {
    "name": "ipython",
    "version": 3
   },
   "file_extension": ".py",
   "mimetype": "text/x-python",
   "name": "python",
   "nbconvert_exporter": "python",
   "pygments_lexer": "ipython3",
   "version": "3.7.11"
  }
 },
 "nbformat": 4,
 "nbformat_minor": 2
}
