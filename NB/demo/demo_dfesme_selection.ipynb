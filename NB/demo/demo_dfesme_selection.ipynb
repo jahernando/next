{
 "cells": [
  {
   "cell_type": "markdown",
   "metadata": {},
   "source": [
    "# Energy resolution after  delta-z effect correction\n",
    "\n",
    "## DEMO Run7, esmeralda: 8757, 8758, 8759 @gpu1next\n",
    "\n",
    "\n",
    "### Nov 2020, JAH"
   ]
  },
  {
   "cell_type": "code",
   "execution_count": 1,
   "metadata": {},
   "outputs": [],
   "source": [
    "%matplotlib inline\n",
    "%reload_ext autoreload\n",
    "%autoreload 2"
   ]
  },
  {
   "cell_type": "code",
   "execution_count": 2,
   "metadata": {},
   "outputs": [],
   "source": [
    "import numpy             as np\n",
    "import pandas            as pd\n",
    "import tables            as tb\n",
    "import matplotlib.pyplot as plt\n",
    "\n",
    "to_df = pd.DataFrame.from_records"
   ]
  },
  {
   "cell_type": "code",
   "execution_count": 3,
   "metadata": {},
   "outputs": [],
   "source": [
    "import hipy.utils        as ut\n",
    "import hipy.pltext       as pltext\n",
    "\n",
    "import next.core.io        as nio\n",
    "import next.core.selection as nsel\n",
    "\n",
    "import next.eres.eres      as eres"
   ]
  },
  {
   "cell_type": "code",
   "execution_count": 4,
   "metadata": {},
   "outputs": [
    {
     "name": "stdout",
     "output_type": "stream",
     "text": [
      " Last revision  Thu Apr 15 10:38:40 2021\n"
     ]
    }
   ],
   "source": [
    "pltext.style()\n",
    "\n",
    "import warnings\n",
    "warnings.filterwarnings('ignore')\n",
    "\n",
    "import time\n",
    "print(' Last revision ', time.asctime())"
   ]
  },
  {
   "cell_type": "markdown",
   "metadata": {},
   "source": [
    "### load data"
   ]
  },
  {
   "cell_type": "code",
   "execution_count": 5,
   "metadata": {},
   "outputs": [
    {
     "name": "stdout",
     "output_type": "stream",
     "text": [
      "nS2 (1.0, 1.0)\n",
      "evt_out_of_map (False, False)\n",
      "numb_of_tracks (1.0, 1.0)\n",
      "z_min (15.0, 300.0)\n",
      "z_max (15.0, 300.0)\n",
      "r_max (0.0, 55.0)\n",
      "energy (0.0, 3.0)\n",
      "energy.cs (0.65, 0.75)\n",
      "energy.ds (1.6, 1.85)\n",
      "energy.ph (2.0, 3.0)\n"
     ]
    }
   ],
   "source": [
    "ranges = {'nS2'            : (1., 1.),\n",
    "          'evt_out_of_map' : (False, False),\n",
    "          'numb_of_tracks' : (1., 1.),\n",
    "          'z_min'          : (15., 300.),\n",
    "          'z_max'          : (15., 300.),\n",
    "          'r_max'          : (0.,  55.),\n",
    "          'energy'         : (0., 3.),\n",
    "          'energy.cs'      : (0.65, 0.75),\n",
    "          'energy.ds'      : (1.60, 1.85),\n",
    "          'energy.ph'      : (2.00, 3.00),\n",
    "         }\n",
    "for key in ranges.keys():\n",
    "    print(key, ranges[key])"
   ]
  },
  {
   "cell_type": "code",
   "execution_count": 11,
   "metadata": {},
   "outputs": [],
   "source": [
    "def get_filename(run_number, demo = 'run8'):\n",
    "    datadir    = f\"/home/jrenner/analysis/DEMO/{demo}/\"\n",
    "    run_number = str(run_number)\n",
    "    filename   = datadir + f'/cdst_combined_{run_number}' + '.h5'\n",
    "    return filename\n",
    "\n",
    "def df_filter(run_number, demo = 'run8'):\n",
    "    run_number = str(run_number)\n",
    "    fname      = get_filename(run_number, demo)\n",
    "    print('open file ', fname)\n",
    "    dft, f     = nio.get_dfesme(fname)\n",
    "    selections = nsel.Selections(dft, ranges)\n",
    "    selnames   = ('nS2', 'numb_of_tracks', 'z_min', 'z_max', 'r_max')\n",
    "    sel_fid    = selections.logical_and(selnames, 'fidutial');\n",
    "    dft_fid    = dft[sel_fid]\n",
    "    eff, ueff  = ut.efficiency(sel_fid)\n",
    "    print('efficiency : ', sel_fid.info, 'efficiency {:6.5f}'.format(eff))\n",
    "    ofilename  = f'dfesme_fidutial_{run_number}.h5'\n",
    "    dft_fid.to_hdf(ofilename, 'esme')\n",
    "    f.close()\n",
    "    return\n",
    "    \n",
    "    \n",
    "    "
   ]
  },
  {
   "cell_type": "code",
   "execution_count": 12,
   "metadata": {},
   "outputs": [],
   "source": [
    "# df_filter(8757)"
   ]
  },
  {
   "cell_type": "code",
   "execution_count": 14,
   "metadata": {
    "scrolled": false
   },
   "outputs": [
    {
     "name": "stdout",
     "output_type": "stream",
     "text": [
      "open file  /home/jrenner/analysis/DEMO/run8//cdst_combined_9566.h5\n",
      "efficiency :  nS2 [1.0, 1.0] & numb_of_tracks [1.0, 1.0] & z_min [15.0, 300.0) & z_max [15.0, 300.0) & r_max [0.0, 55.0) efficiency 0.01682\n",
      "open file  /home/jrenner/analysis/DEMO/run8//cdst_combined_9567.h5\n",
      "efficiency :  nS2 [1.0, 1.0] & numb_of_tracks [1.0, 1.0] & z_min [15.0, 300.0) & z_max [15.0, 300.0) & r_max [0.0, 55.0) efficiency 0.01647\n",
      "open file  /home/jrenner/analysis/DEMO/run8//cdst_combined_9568.h5\n",
      "efficiency :  nS2 [1.0, 1.0] & numb_of_tracks [1.0, 1.0] & z_min [15.0, 300.0) & z_max [15.0, 300.0) & r_max [0.0, 55.0) efficiency 0.01647\n",
      "open file  /home/jrenner/analysis/DEMO/run8//cdst_combined_9569.h5\n",
      "efficiency :  nS2 [1.0, 1.0] & numb_of_tracks [1.0, 1.0] & z_min [15.0, 300.0) & z_max [15.0, 300.0) & r_max [0.0, 55.0) efficiency 0.01639\n",
      "open file  /home/jrenner/analysis/DEMO/run8//cdst_combined_9570.h5\n",
      "efficiency :  nS2 [1.0, 1.0] & numb_of_tracks [1.0, 1.0] & z_min [15.0, 300.0) & z_max [15.0, 300.0) & r_max [0.0, 55.0) efficiency 0.01666\n",
      "open file  /home/jrenner/analysis/DEMO/run8//cdst_combined_9571.h5\n",
      "efficiency :  nS2 [1.0, 1.0] & numb_of_tracks [1.0, 1.0] & z_min [15.0, 300.0) & z_max [15.0, 300.0) & r_max [0.0, 55.0) efficiency 0.01662\n",
      "open file  /home/jrenner/analysis/DEMO/run8//cdst_combined_9650.h5\n",
      "efficiency :  nS2 [1.0, 1.0] & numb_of_tracks [1.0, 1.0] & z_min [15.0, 300.0) & z_max [15.0, 300.0) & r_max [0.0, 55.0) efficiency 0.01728\n",
      "open file  /home/jrenner/analysis/DEMO/run8//cdst_combined_9651.h5\n",
      "efficiency :  nS2 [1.0, 1.0] & numb_of_tracks [1.0, 1.0] & z_min [15.0, 300.0) & z_max [15.0, 300.0) & r_max [0.0, 55.0) efficiency 0.01716\n",
      "open file  /home/jrenner/analysis/DEMO/run8//cdst_combined_9662.h5\n",
      "efficiency :  nS2 [1.0, 1.0] & numb_of_tracks [1.0, 1.0] & z_min [15.0, 300.0) & z_max [15.0, 300.0) & r_max [0.0, 55.0) efficiency 0.01977\n",
      "open file  /home/jrenner/analysis/DEMO/run8//cdst_combined_9663.h5\n",
      "efficiency :  nS2 [1.0, 1.0] & numb_of_tracks [1.0, 1.0] & z_min [15.0, 300.0) & z_max [15.0, 300.0) & r_max [0.0, 55.0) efficiency 0.01956\n",
      "open file  /home/jrenner/analysis/DEMO/run8//cdst_combined_9665.h5\n",
      "efficiency :  nS2 [1.0, 1.0] & numb_of_tracks [1.0, 1.0] & z_min [15.0, 300.0) & z_max [15.0, 300.0) & r_max [0.0, 55.0) efficiency 0.01968\n",
      "open file  /home/jrenner/analysis/DEMO/run8//cdst_combined_9668.h5\n",
      "efficiency :  nS2 [1.0, 1.0] & numb_of_tracks [1.0, 1.0] & z_min [15.0, 300.0) & z_max [15.0, 300.0) & r_max [0.0, 55.0) efficiency 0.02048\n",
      "open file  /home/jrenner/analysis/DEMO/run8//cdst_combined_9669.h5\n",
      "efficiency :  nS2 [1.0, 1.0] & numb_of_tracks [1.0, 1.0] & z_min [15.0, 300.0) & z_max [15.0, 300.0) & r_max [0.0, 55.0) efficiency 0.02004\n",
      "open file  /home/jrenner/analysis/DEMO/run8//cdst_combined_9673.h5\n",
      "efficiency :  nS2 [1.0, 1.0] & numb_of_tracks [1.0, 1.0] & z_min [15.0, 300.0) & z_max [15.0, 300.0) & r_max [0.0, 55.0) efficiency 0.01930\n",
      "open file  /home/jrenner/analysis/DEMO/run8//cdst_combined_9676.h5\n",
      "efficiency :  nS2 [1.0, 1.0] & numb_of_tracks [1.0, 1.0] & z_min [15.0, 300.0) & z_max [15.0, 300.0) & r_max [0.0, 55.0) efficiency 0.02028\n",
      "open file  /home/jrenner/analysis/DEMO/run8//cdst_combined_9677.h5\n",
      "efficiency :  nS2 [1.0, 1.0] & numb_of_tracks [1.0, 1.0] & z_min [15.0, 300.0) & z_max [15.0, 300.0) & r_max [0.0, 55.0) efficiency 0.02051\n",
      "open file  /home/jrenner/analysis/DEMO/run8//cdst_combined_9678.h5\n",
      "efficiency :  nS2 [1.0, 1.0] & numb_of_tracks [1.0, 1.0] & z_min [15.0, 300.0) & z_max [15.0, 300.0) & r_max [0.0, 55.0) efficiency 0.02049\n",
      "open file  /home/jrenner/analysis/DEMO/run8//cdst_combined_9679.h5\n",
      "efficiency :  nS2 [1.0, 1.0] & numb_of_tracks [1.0, 1.0] & z_min [15.0, 300.0) & z_max [15.0, 300.0) & r_max [0.0, 55.0) efficiency 0.02058\n"
     ]
    }
   ],
   "source": [
    "runs_run7 = [8757, 8758, 8759, 8760, 8762, 8764, 8765, 8913, 8915, 8916, 8920, 8921, 8922, 8923]\n",
    "runs_run8 = [9566, 9567, 9568, 9569, 9570, 9571, 9650, 9651,\n",
    "             9662, 9663, 9665, 9668, 9669, 9673, 9676, 9677, 9678, 9679]\n",
    "\n",
    "cc = [df_filter(run, 'run8') for run in runs_run8]"
   ]
  },
  {
   "cell_type": "code",
   "execution_count": null,
   "metadata": {},
   "outputs": [],
   "source": [
    "#cc = [df_filter(run) for run in runs_run]"
   ]
  },
  {
   "cell_type": "code",
   "execution_count": 15,
   "metadata": {},
   "outputs": [],
   "source": [
    "def get_dfesme(run_number, demo):\n",
    "    run_number = str(run_number)\n",
    "    dirpath    = f'/home/hernando/data/demo/{demo}/'\n",
    "    filename   = dirpath + f'dfesme_fidutial_{run_number}.h5'\n",
    "    print(filename)\n",
    "    df         = pd.read_hdf(filename, 'esme')\n",
    "    return df"
   ]
  },
  {
   "cell_type": "code",
   "execution_count": 16,
   "metadata": {},
   "outputs": [
    {
     "name": "stdout",
     "output_type": "stream",
     "text": [
      "/home/hernando/data/demo/run8/dfesme_fidutial_9566.h5\n",
      "/home/hernando/data/demo/run8/dfesme_fidutial_9567.h5\n",
      "/home/hernando/data/demo/run8/dfesme_fidutial_9568.h5\n",
      "/home/hernando/data/demo/run8/dfesme_fidutial_9569.h5\n",
      "/home/hernando/data/demo/run8/dfesme_fidutial_9570.h5\n",
      "/home/hernando/data/demo/run8/dfesme_fidutial_9571.h5\n",
      "/home/hernando/data/demo/run8/dfesme_fidutial_9650.h5\n",
      "/home/hernando/data/demo/run8/dfesme_fidutial_9651.h5\n",
      "/home/hernando/data/demo/run8/dfesme_fidutial_9662.h5\n",
      "/home/hernando/data/demo/run8/dfesme_fidutial_9663.h5\n",
      "/home/hernando/data/demo/run8/dfesme_fidutial_9665.h5\n",
      "/home/hernando/data/demo/run8/dfesme_fidutial_9668.h5\n",
      "/home/hernando/data/demo/run8/dfesme_fidutial_9669.h5\n",
      "/home/hernando/data/demo/run8/dfesme_fidutial_9673.h5\n",
      "/home/hernando/data/demo/run8/dfesme_fidutial_9676.h5\n",
      "/home/hernando/data/demo/run8/dfesme_fidutial_9677.h5\n",
      "/home/hernando/data/demo/run8/dfesme_fidutial_9678.h5\n",
      "/home/hernando/data/demo/run8/dfesme_fidutial_9679.h5\n",
      "total number of selected events  1828937\n"
     ]
    }
   ],
   "source": [
    "dfs  = [get_dfesme(run, 'run8') for run in runs_run8]\n",
    "df   = nio.df_concat(dfs, runs_run8)\n",
    "print('total number of selected events ', len(df))\n",
    "ofilename  = f'/home/hernando/data/demo/run8/dfesme_fidutial_combined.h5'\n",
    "df.to_hdf(ofilename, 'esme')"
   ]
  },
  {
   "cell_type": "code",
   "execution_count": null,
   "metadata": {},
   "outputs": [],
   "source": []
  }
 ],
 "metadata": {
  "kernelspec": {
   "display_name": "Python 3",
   "language": "python",
   "name": "python3"
  },
  "language_info": {
   "codemirror_mode": {
    "name": "ipython",
    "version": 3
   },
   "file_extension": ".py",
   "mimetype": "text/x-python",
   "name": "python",
   "nbconvert_exporter": "python",
   "pygments_lexer": "ipython3",
   "version": "3.7.10"
  }
 },
 "nbformat": 4,
 "nbformat_minor": 2
}
